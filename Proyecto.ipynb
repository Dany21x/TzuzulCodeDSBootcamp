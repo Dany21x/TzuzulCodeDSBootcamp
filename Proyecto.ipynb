{
 "cells": [
  {
   "cell_type": "code",
   "execution_count": 2,
   "id": "d2a8b514",
   "metadata": {},
   "outputs": [],
   "source": [
    "import pandas as pd\n",
    "\n",
    "misionDB = pd.read_csv('Misi_n_TIC_2020_100_mil_programadores.csv')\n",
    "columnNames = misionDB.columns\n",
    "\n",
    "\n",
    "\n",
    "len(misionDB[misionDB['ESTADO_FORMACION']=='ASPIRANTE'])\n",
    "columnNames\n",
    "\n",
    "\n",
    "misionDB = misionDB[misionDB['RUTA']=='RUTA 2']\n"
   ]
  },
  {
   "cell_type": "markdown",
   "id": "cf7e4de2",
   "metadata": {},
   "source": [
    "## Estrato socioeconómico de los aspirantes "
   ]
  },
  {
   "cell_type": "code",
   "execution_count": 3,
   "id": "2e683a55",
   "metadata": {},
   "outputs": [
    {
     "data": {
      "text/plain": [
       "array(['3', '1', '2', '4', 'a', '5', '6'], dtype=object)"
      ]
     },
     "execution_count": 3,
     "metadata": {},
     "output_type": "execute_result"
    }
   ],
   "source": [
    "misionDB['ESTRATO_SOCIAL'].unique()\n"
   ]
  },
  {
   "cell_type": "code",
   "execution_count": 4,
   "id": "970e9c17",
   "metadata": {},
   "outputs": [],
   "source": [
    "misionDB = misionDB[misionDB['ESTRATO_SOCIAL']!='a']\n",
    "misionDB['ESTRATO_SOCIAL'] = misionDB['ESTRATO_SOCIAL'].astype(int)\n",
    "estratos = misionDB['ESTRATO_SOCIAL'].unique()\n",
    "\n",
    "estratos.sort()\n"
   ]
  },
  {
   "cell_type": "code",
   "execution_count": 5,
   "id": "5278dea5",
   "metadata": {},
   "outputs": [],
   "source": [
    "import numpy as np\n",
    "import matplotlib.pyplot as plt\n",
    "\n",
    "%matplotlib inline\n",
    "\n",
    "plt.style.use('seaborn-white')\n",
    "serieEstratoAspirantes = misionDB['ESTRATO_SOCIAL']\n",
    "serieEstratoMatriculados = misionDB[misionDB['ESTADO_FORMACION']=='MATRICULADO']['ESTRATO_SOCIAL']\n",
    "serieEstratoGraduados = misionDB[misionDB['ESTADO_FORMACION']=='GRADUADO']['ESTRATO_SOCIAL']"
   ]
  },
  {
   "cell_type": "code",
   "execution_count": 6,
   "id": "86d1760c",
   "metadata": {},
   "outputs": [
    {
     "data": {
      "image/png": "[encoded data removed]",
      "text/plain": [
       "<Figure size 432x288 with 1 Axes>"
      ]
     },
     "metadata": {},
     "output_type": "display_data"
    }
   ],
   "source": [
    "plt.hist(serieEstratoMatriculados, histtype='stepfilled', color=\"orange\", label=\"Matriculados\")\n",
    "plt.hist(serieEstratoGraduados, histtype='stepfilled',color=\"cyan\", label=\"Graduados\")\n",
    "\n",
    "plt.xlabel(\"Estrato\")\n",
    "plt.ylabel(\"Cantidad de estudiantes\")\n",
    "\n",
    "#plt.legend()\n",
    "plt.show()"
   ]
  },
  {
   "cell_type": "code",
   "execution_count": 7,
   "id": "6c2b0ba8",
   "metadata": {},
   "outputs": [
    {
     "name": "stdout",
     "output_type": "stream",
     "text": [
      "Estrato 1 - Núm. Aspirantes: 68522, Núm. Matriculados: 7104, Relación: 10.37%\n",
      "Estrato 2 - Núm. Aspirantes: 116597, Núm. Matriculados: 17950, Relación: 15.39%\n",
      "Estrato 3 - Núm. Aspirantes: 94559, Núm. Matriculados: 17795, Relación: 18.82%\n",
      "Estrato 4 - Núm. Aspirantes: 18782, Núm. Matriculados: 4109, Relación: 21.88%\n",
      "Estrato 5 - Núm. Aspirantes: 3846, Núm. Matriculados: 864, Relación: 22.46%\n",
      "Estrato 6 - Núm. Aspirantes: 1059, Núm. Matriculados: 223, Relación: 21.06%\n"
     ]
    }
   ],
   "source": [
    "relacionMatriculadoAspiranteArray = []\n",
    "\n",
    "for estrato in estratos:\n",
    "    poblacionAspirante = len(misionDB[(misionDB['ESTADO_FORMACION']=='ASPIRANTE') & (misionDB['ESTRATO_SOCIAL']==estrato)]['ESTRATO_SOCIAL'])\n",
    "    poblacionMatriculado = len(misionDB[(misionDB['ESTADO_FORMACION']=='MATRICULADO') & (misionDB['ESTRATO_SOCIAL']==estrato)]['ESTRATO_SOCIAL'])\n",
    "    relacionMatriculadoAspirante = (poblacionMatriculado/poblacionAspirante)*100\n",
    "    relacionMatriculadoAspiranteArray.append(relacionMatriculadoAspirante)\n",
    "    print(f'Estrato {estrato} - Núm. Aspirantes: {poblacionAspirante}, Núm. Matriculados: {poblacionMatriculado}, Relación: {relacionMatriculadoAspirante:,.2f}%')\n"
   ]
  },
  {
   "cell_type": "code",
   "execution_count": 8,
   "id": "5cfcfb9a",
   "metadata": {},
   "outputs": [
    {
     "name": "stdout",
     "output_type": "stream",
     "text": [
      "Estrato 1 - Núm. Aspirantes: 68522, Núm. Graduados: 161, Relación: 0.23%\n",
      "Estrato 2 - Núm. Aspirantes: 116597, Núm. Graduados: 538, Relación: 0.46%\n",
      "Estrato 3 - Núm. Aspirantes: 94559, Núm. Graduados: 686, Relación: 0.73%\n",
      "Estrato 4 - Núm. Aspirantes: 18782, Núm. Graduados: 265, Relación: 1.41%\n",
      "Estrato 5 - Núm. Aspirantes: 3846, Núm. Graduados: 56, Relación: 1.46%\n",
      "Estrato 6 - Núm. Aspirantes: 1059, Núm. Graduados: 21, Relación: 1.98%\n"
     ]
    }
   ],
   "source": [
    "relacionGraduadoAspiranteArray = []\n",
    "\n",
    "for estrato in estratos:\n",
    "    poblacionAspirante = len(misionDB[(misionDB['ESTADO_FORMACION']=='ASPIRANTE') & (misionDB['ESTRATO_SOCIAL']==estrato)]['ESTRATO_SOCIAL'])\n",
    "    poblacionGraduado = len(misionDB[(misionDB['ESTADO_FORMACION']=='GRADUADO') & (misionDB['ESTRATO_SOCIAL']==estrato)]['ESTRATO_SOCIAL'])\n",
    "    relacionGraduadoAspirante = (poblacionGraduado/poblacionAspirante)*100\n",
    "    relacionGraduadoAspiranteArray.append(relacionGraduadoAspirante)\n",
    "    print(f'Estrato {estrato} - Núm. Aspirantes: {poblacionAspirante}, Núm. Graduados: {poblacionGraduado}, Relación: {relacionGraduadoAspirante:,.2f}%')\n"
   ]
  },
  {
   "cell_type": "code",
   "execution_count": 9,
   "id": "504a7c05",
   "metadata": {},
   "outputs": [
    {
     "name": "stdout",
     "output_type": "stream",
     "text": [
      "Estrato 1 - Núm. Matriculado: 7104, Núm. Graduados: 161, Relación: 2.27%\n",
      "Estrato 2 - Núm. Matriculado: 17950, Núm. Graduados: 538, Relación: 3.00%\n",
      "Estrato 3 - Núm. Matriculado: 17795, Núm. Graduados: 686, Relación: 3.86%\n",
      "Estrato 4 - Núm. Matriculado: 4109, Núm. Graduados: 265, Relación: 6.45%\n",
      "Estrato 5 - Núm. Matriculado: 864, Núm. Graduados: 56, Relación: 6.48%\n",
      "Estrato 6 - Núm. Matriculado: 223, Núm. Graduados: 21, Relación: 9.42%\n"
     ]
    }
   ],
   "source": [
    "relacionGraduadoMatriculadoArray = []\n",
    "\n",
    "for estrato in estratos:\n",
    "    poblacionMatriculado = len(misionDB[(misionDB['ESTADO_FORMACION']=='MATRICULADO') & (misionDB['ESTRATO_SOCIAL']==estrato)]['ESTRATO_SOCIAL'])\n",
    "    poblacionGraduado = len(misionDB[(misionDB['ESTADO_FORMACION']=='GRADUADO') & (misionDB['ESTRATO_SOCIAL']==estrato)]['ESTRATO_SOCIAL'])\n",
    "    \n",
    "    relacionGraduadoMatriculado = (poblacionGraduado/poblacionMatriculado)*100\n",
    "    relacionGraduadoMatriculadoArray.append(relacionGraduadoMatriculado)\n",
    "    print(f'Estrato {estrato} - Núm. Matriculado: {poblacionMatriculado}, Núm. Graduados: {poblacionGraduado}, Relación: {relacionGraduadoMatriculado:,.2f}%')\n"
   ]
  },
  {
   "cell_type": "code",
   "execution_count": 10,
   "id": "d188c02f",
   "metadata": {
    "scrolled": true
   },
   "outputs": [
    {
     "data": {
      "image/png": "[encoded data removed]",
      "text/plain": [
       "<Figure size 432x288 with 4 Axes>"
      ]
     },
     "metadata": {},
     "output_type": "display_data"
    }
   ],
   "source": [
    "fig, ax = plt.subplots(2,2)\n",
    "ax[0][0].hist(serieEstratoAspirantes, histtype='stepfilled')\n",
    "ax[0][1].hist(serieEstratoGraduados, histtype='stepfilled',color=\"green\")\n",
    "ax[1][0].plot(estratos, relacionMatriculadoAspiranteArray, '-',color=\"orange\")\n",
    "ax[1][1].plot(estratos, relacionGraduadoMatriculadoArray, '--',color=\"red\")\n",
    "\n",
    "ax[0][0].set_title('Relación Estrato-Aspirantes')\n",
    "ax[0][1].set_title('Relación Estrato-Graduados')\n",
    "ax[1][0].set_title('% (Matriculado / Aspirante) por Estrato')\n",
    "ax[1][1].set_title('% (Graduado / Matriculado) por Estrato')\n",
    "\n",
    "\n",
    "plt.tight_layout()\n",
    "\n",
    "#matriculados vs graduados"
   ]
  },
  {
   "cell_type": "markdown",
   "id": "a4d1a264",
   "metadata": {},
   "source": [
    "# Género aspirantes"
   ]
  },
  {
   "cell_type": "code",
   "execution_count": 11,
   "id": "4fd935a2",
   "metadata": {},
   "outputs": [
    {
     "data": {
      "image/png": "[encoded data removed]",
      "text/plain": [
       "<Figure size 432x288 with 1 Axes>"
      ]
     },
     "metadata": {},
     "output_type": "display_data"
    }
   ],
   "source": [
    "generoAspirantes = misionDB.groupby('GENERO').count()['EDAD']\n",
    "\n",
    "fig, ax = plt.subplots()\n",
    "ax.pie(generoAspirantes, labels=generoAspirantes.index, autopct='%.1f%%')\n",
    "ax.set_title('Género Aspirantes')\n",
    "\n",
    "plt.tight_layout()\n",
    "plt.show()"
   ]
  },
  {
   "cell_type": "code",
   "execution_count": 12,
   "id": "01a14da2",
   "metadata": {},
   "outputs": [
    {
     "data": {
      "text/plain": [
       "GENERO\n",
       "FEMENINO       109939\n",
       "MASCULINO      241604\n",
       "NO REGISTRA      1594\n",
       "Name: EDAD, dtype: int64"
      ]
     },
     "execution_count": 12,
     "metadata": {},
     "output_type": "execute_result"
    }
   ],
   "source": [
    "generoAspirantes"
   ]
  },
  {
   "cell_type": "markdown",
   "id": "35b2726b",
   "metadata": {},
   "source": [
    "# Algunos datos estadísticos"
   ]
  },
  {
   "cell_type": "code",
   "execution_count": 13,
   "id": "40367dc0",
   "metadata": {},
   "outputs": [
    {
     "data": {
      "text/plain": [
       "<BarContainer object of 34 artists>"
      ]
     },
     "execution_count": 13,
     "metadata": {},
     "output_type": "execute_result"
    },
    {
     "data": {
      "image/png": "[encoded data removed]",
      "text/plain": [
       "<Figure size 432x288 with 1 Axes>"
      ]
     },
     "metadata": {},
     "output_type": "display_data"
    }
   ],
   "source": [
    "departamentoAspirantes = misionDB.groupby('DEPARTAME_NOMBRE').count()['EDAD']\n",
    "plt.tight_layout()\n",
    "plt.barh(departamentoAspirantes.index, departamentoAspirantes)\n",
    "\n",
    "#https://www.geeksforgeeks.org/matplotlib-pyplot-barh-function-in-python/"
   ]
  },
  {
   "cell_type": "code",
   "execution_count": 15,
   "id": "dcc25a27",
   "metadata": {},
   "outputs": [
    {
     "data": {
      "text/html": [
       "<div>\n",
       "<style scoped>\n",
       "    .dataframe tbody tr th:only-of-type {\n",
       "        vertical-align: middle;\n",
       "    }\n",
       "\n",
       "    .dataframe tbody tr th {\n",
       "        vertical-align: top;\n",
       "    }\n",
       "\n",
       "    .dataframe thead th {\n",
       "        text-align: right;\n",
       "    }\n",
       "</style>\n",
       "<table border=\"1\" class=\"dataframe\">\n",
       "  <thead>\n",
       "    <tr style=\"text-align: right;\">\n",
       "      <th></th>\n",
       "      <th>CONVOCATORIA</th>\n",
       "      <th>ESTRATO_SOCIAL</th>\n",
       "      <th>EDAD</th>\n",
       "      <th>GRADO</th>\n",
       "      <th>META_BENEFICIARIO</th>\n",
       "      <th>INVERSION</th>\n",
       "      <th>META_DINERO</th>\n",
       "    </tr>\n",
       "  </thead>\n",
       "  <tbody>\n",
       "    <tr>\n",
       "      <th>count</th>\n",
       "      <td>353137.0</td>\n",
       "      <td>353137.000000</td>\n",
       "      <td>353137.000000</td>\n",
       "      <td>353137.0</td>\n",
       "      <td>0.0</td>\n",
       "      <td>0.0</td>\n",
       "      <td>0.0</td>\n",
       "    </tr>\n",
       "    <tr>\n",
       "      <th>mean</th>\n",
       "      <td>1.0</td>\n",
       "      <td>2.291884</td>\n",
       "      <td>46.954259</td>\n",
       "      <td>-1.0</td>\n",
       "      <td>NaN</td>\n",
       "      <td>NaN</td>\n",
       "      <td>NaN</td>\n",
       "    </tr>\n",
       "    <tr>\n",
       "      <th>std</th>\n",
       "      <td>0.0</td>\n",
       "      <td>0.944622</td>\n",
       "      <td>36.247493</td>\n",
       "      <td>0.0</td>\n",
       "      <td>NaN</td>\n",
       "      <td>NaN</td>\n",
       "      <td>NaN</td>\n",
       "    </tr>\n",
       "    <tr>\n",
       "      <th>min</th>\n",
       "      <td>1.0</td>\n",
       "      <td>1.000000</td>\n",
       "      <td>0.000000</td>\n",
       "      <td>-1.0</td>\n",
       "      <td>NaN</td>\n",
       "      <td>NaN</td>\n",
       "      <td>NaN</td>\n",
       "    </tr>\n",
       "    <tr>\n",
       "      <th>25%</th>\n",
       "      <td>1.0</td>\n",
       "      <td>2.000000</td>\n",
       "      <td>24.000000</td>\n",
       "      <td>-1.0</td>\n",
       "      <td>NaN</td>\n",
       "      <td>NaN</td>\n",
       "      <td>NaN</td>\n",
       "    </tr>\n",
       "    <tr>\n",
       "      <th>50%</th>\n",
       "      <td>1.0</td>\n",
       "      <td>2.000000</td>\n",
       "      <td>32.000000</td>\n",
       "      <td>-1.0</td>\n",
       "      <td>NaN</td>\n",
       "      <td>NaN</td>\n",
       "      <td>NaN</td>\n",
       "    </tr>\n",
       "    <tr>\n",
       "      <th>75%</th>\n",
       "      <td>1.0</td>\n",
       "      <td>3.000000</td>\n",
       "      <td>46.000000</td>\n",
       "      <td>-1.0</td>\n",
       "      <td>NaN</td>\n",
       "      <td>NaN</td>\n",
       "      <td>NaN</td>\n",
       "    </tr>\n",
       "    <tr>\n",
       "      <th>max</th>\n",
       "      <td>1.0</td>\n",
       "      <td>6.000000</td>\n",
       "      <td>121.000000</td>\n",
       "      <td>-1.0</td>\n",
       "      <td>NaN</td>\n",
       "      <td>NaN</td>\n",
       "      <td>NaN</td>\n",
       "    </tr>\n",
       "  </tbody>\n",
       "</table>\n",
       "</div>"
      ],
      "text/plain": [
       "       CONVOCATORIA  ESTRATO_SOCIAL           EDAD     GRADO  \\\n",
       "count      353137.0   353137.000000  353137.000000  353137.0   \n",
       "mean            1.0        2.291884      46.954259      -1.0   \n",
       "std             0.0        0.944622      36.247493       0.0   \n",
       "min             1.0        1.000000       0.000000      -1.0   \n",
       "25%             1.0        2.000000      24.000000      -1.0   \n",
       "50%             1.0        2.000000      32.000000      -1.0   \n",
       "75%             1.0        3.000000      46.000000      -1.0   \n",
       "max             1.0        6.000000     121.000000      -1.0   \n",
       "\n",
       "       META_BENEFICIARIO  INVERSION  META_DINERO  \n",
       "count                0.0        0.0          0.0  \n",
       "mean                 NaN        NaN          NaN  \n",
       "std                  NaN        NaN          NaN  \n",
       "min                  NaN        NaN          NaN  \n",
       "25%                  NaN        NaN          NaN  \n",
       "50%                  NaN        NaN          NaN  \n",
       "75%                  NaN        NaN          NaN  \n",
       "max                  NaN        NaN          NaN  "
      ]
     },
     "execution_count": 15,
     "metadata": {},
     "output_type": "execute_result"
    }
   ],
   "source": [
    "misionDB.describe()"
   ]
  },
  {
   "cell_type": "code",
   "execution_count": null,
   "id": "e86c0adf",
   "metadata": {},
   "outputs": [],
   "source": []
  }
 ],
 "metadata": {
  "kernelspec": {
   "display_name": "Python 3 (ipykernel)",
   "language": "python",
   "name": "python3"
  },
  "language_info": {
   "codemirror_mode": {
    "name": "ipython",
    "version": 3
   },
   "file_extension": ".py",
   "mimetype": "text/x-python",
   "name": "python",
   "nbconvert_exporter": "python",
   "pygments_lexer": "ipython3",
   "version": "3.9.6"
  }
 },
 "nbformat": 4,
 "nbformat_minor": 5
}
